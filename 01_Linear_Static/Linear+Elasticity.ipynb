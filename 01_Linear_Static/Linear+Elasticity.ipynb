{
 "cells": [
  {
   "cell_type": "markdown",
   "metadata": {
    "collapsed": true
   },
   "source": [
    "# Linear Elasticity"
   ]
  },
  {
   "cell_type": "markdown",
   "metadata": {},
   "source": [
    "As an initiation to the structural solver in SU2, we will first cover the solution of linear elastic problems. This tutorial will guide you through the construction of the configuration file, the basic commands for structural analysis, and the execution of the code.\n",
    "\n",
    "First, make sure you have followed the [installation guide](https://github.com/su2code/SU2/wiki/Installation) and that you have SU2 up and running in your system. I personally recommend building the code from source. A [simple build](https://github.com/su2code/SU2/wiki/Simple-Build), for one core, will be enough for this tutorial.\n",
    "\n",
    "The problem that we will be solving in this tutorial consists of a vertical cantilever, clamped in its base, and subject to a horizontal, distributed load $P$. This is shown in Fig. 1\n",
    "\n",
    "\n"
   ]
  },
  {
   "cell_type": "code",
   "execution_count": null,
   "metadata": {
    "collapsed": true
   },
   "outputs": [],
   "source": []
  },
  {
   "cell_type": "code",
   "execution_count": null,
   "metadata": {
    "collapsed": true
   },
   "outputs": [],
   "source": []
  },
  {
   "cell_type": "code",
   "execution_count": null,
   "metadata": {
    "collapsed": true
   },
   "outputs": [],
   "source": []
  },
  {
   "cell_type": "code",
   "execution_count": null,
   "metadata": {
    "collapsed": true
   },
   "outputs": [],
   "source": []
  }
 ],
 "metadata": {
  "kernelspec": {
   "display_name": "Python 2",
   "language": "python",
   "name": "python2"
  },
  "language_info": {
   "codemirror_mode": {
    "name": "ipython",
    "version": 2
   },
   "file_extension": ".py",
   "mimetype": "text/x-python",
   "name": "python",
   "nbconvert_exporter": "python",
   "pygments_lexer": "ipython2",
   "version": "2.7.13"
  }
 },
 "nbformat": 4,
 "nbformat_minor": 2
}
